{
    "cells": [
        {
            "metadata": {},
            "cell_type": "markdown",
            "source": "# Chicago Data\n\nJames Arnold E. Nogra"
        },
        {
            "metadata": {},
            "cell_type": "code",
            "source": "%load_ext sql",
            "execution_count": 1,
            "outputs": []
        },
        {
            "metadata": {},
            "cell_type": "code",
            "source": "# Enter the connection string for your Db2 on Cloud database instance below\n%sql ibm_db_sa://snx34908:5X87EPGgvf3toAl1@21fecfd8-47b7-4937-840d-d791d0218660.bs2io90l08kqb1od8lcg.databases.appdomain.cloud:31864/bludb",
            "execution_count": 2,
            "outputs": [
                {
                    "data": {
                        "text/plain": "'Connected: pgq43854@BLUDB'"
                    },
                    "execution_count": 2,
                    "metadata": {},
                    "output_type": "execute_result"
                }
            ]
        },
        {
            "metadata": {},
            "cell_type": "markdown",
            "source": "## Problem 1"
        },
        {
            "metadata": {},
            "cell_type": "code",
            "source": "# Rows in Crime table\n%sql SELECT COUNT(*) as count_of_crimes FROM CHICAGO_CRIME_DATA",
            "execution_count": 10,
            "outputs": [
                {
                    "name": "stdout",
                    "output_type": "stream",
                    "text": " * ibm_db_sa://pgq43854:***@dashdb-txn-sbox-yp-lon02-02.services.eu-gb.bluemix.net:50000/BLUDB\nDone.\n"
                },
                {
                    "data": {
                        "text/html": "<table>\n    <tr>\n        <th>count_of_crimes</th>\n    </tr>\n    <tr>\n        <td>533</td>\n    </tr>\n</table>",
                        "text/plain": "[(Decimal('533'),)]"
                    },
                    "execution_count": 10,
                    "metadata": {},
                    "output_type": "execute_result"
                }
            ]
        },
        {
            "metadata": {},
            "cell_type": "markdown",
            "source": "## Problem 2\n"
        },
        {
            "metadata": {},
            "cell_type": "code",
            "source": "%sql SELECT * FROM CHICAGO_CRIME_DATA LIMIT 10",
            "execution_count": 11,
            "outputs": [
                {
                    "name": "stdout",
                    "output_type": "stream",
                    "text": " * ibm_db_sa://pgq43854:***@dashdb-txn-sbox-yp-lon02-02.services.eu-gb.bluemix.net:50000/BLUDB\nDone.\n"
                },
                {
                    "data": {
                        "text/html": "<table>\n    <tr>\n        <th>id</th>\n        <th>case_number</th>\n        <th>DATE</th>\n        <th>block</th>\n        <th>iucr</th>\n        <th>primary_type</th>\n        <th>description</th>\n        <th>location_description</th>\n        <th>arrest</th>\n        <th>domestic</th>\n        <th>beat</th>\n        <th>district</th>\n        <th>ward</th>\n        <th>community_area_number</th>\n        <th>fbicode</th>\n        <th>x_coordinate</th>\n        <th>y_coordinate</th>\n        <th>YEAR</th>\n        <th>updatedon</th>\n        <th>latitude</th>\n        <th>longitude</th>\n        <th>location</th>\n    </tr>\n    <tr>\n        <td>3512276</td>\n        <td>HK587712</td>\n        <td>08/28/2004 05:50:56 PM</td>\n        <td>047XX S KEDZIE AVE</td>\n        <td>890</td>\n        <td>THEFT</td>\n        <td>FROM BUILDING</td>\n        <td>SMALL RETAIL STORE</td>\n        <td>FALSE</td>\n        <td>FALSE</td>\n        <td>911</td>\n        <td>9</td>\n        <td>14</td>\n        <td>58</td>\n        <td>6</td>\n        <td>1155838</td>\n        <td>1873050</td>\n        <td>2004</td>\n        <td>2018-02-10 15:50:01</td>\n        <td>41.80744050</td>\n        <td>-87.70395585</td>\n        <td>(41.8074405, -87.703955849)</td>\n    </tr>\n    <tr>\n        <td>3406613</td>\n        <td>HK456306</td>\n        <td>06/26/2004 12:40:00 PM</td>\n        <td>009XX N CENTRAL PARK AVE</td>\n        <td>820</td>\n        <td>THEFT</td>\n        <td>$500 AND UNDER</td>\n        <td>OTHER</td>\n        <td>FALSE</td>\n        <td>FALSE</td>\n        <td>1112</td>\n        <td>11</td>\n        <td>27</td>\n        <td>23</td>\n        <td>6</td>\n        <td>1152206</td>\n        <td>1906127</td>\n        <td>2004</td>\n        <td>2018-02-28 15:56:25</td>\n        <td>41.89827996</td>\n        <td>-87.71640551</td>\n        <td>(41.898279962, -87.716405505)</td>\n    </tr>\n    <tr>\n        <td>8002131</td>\n        <td>HT233595</td>\n        <td>04/04/2011 05:45:00 AM</td>\n        <td>043XX S WABASH AVE</td>\n        <td>820</td>\n        <td>THEFT</td>\n        <td>$500 AND UNDER</td>\n        <td>NURSING HOME/RETIREMENT HOME</td>\n        <td>FALSE</td>\n        <td>FALSE</td>\n        <td>221</td>\n        <td>2</td>\n        <td>3</td>\n        <td>38</td>\n        <td>6</td>\n        <td>1177436</td>\n        <td>1876313</td>\n        <td>2011</td>\n        <td>2018-02-10 15:50:01</td>\n        <td>41.81593313</td>\n        <td>-87.62464213</td>\n        <td>(41.815933131, -87.624642127)</td>\n    </tr>\n    <tr>\n        <td>7903289</td>\n        <td>HT133522</td>\n        <td>12/30/2010 04:30:00 PM</td>\n        <td>083XX S KINGSTON AVE</td>\n        <td>840</td>\n        <td>THEFT</td>\n        <td>FINANCIAL ID THEFT: OVER $300</td>\n        <td>RESIDENCE</td>\n        <td>FALSE</td>\n        <td>FALSE</td>\n        <td>423</td>\n        <td>4</td>\n        <td>7</td>\n        <td>46</td>\n        <td>6</td>\n        <td>1194622</td>\n        <td>1850125</td>\n        <td>2010</td>\n        <td>2018-02-10 15:50:01</td>\n        <td>41.74366532</td>\n        <td>-87.56246276</td>\n        <td>(41.743665322, -87.562462756)</td>\n    </tr>\n    <tr>\n        <td>10402076</td>\n        <td>HZ138551</td>\n        <td>02/02/2016 07:30:00 PM</td>\n        <td>033XX W 66TH ST</td>\n        <td>820</td>\n        <td>THEFT</td>\n        <td>$500 AND UNDER</td>\n        <td>ALLEY</td>\n        <td>FALSE</td>\n        <td>FALSE</td>\n        <td>831</td>\n        <td>8</td>\n        <td>15</td>\n        <td>66</td>\n        <td>6</td>\n        <td>1155240</td>\n        <td>1860661</td>\n        <td>2016</td>\n        <td>2018-02-10 15:50:01</td>\n        <td>41.77345530</td>\n        <td>-87.70648047</td>\n        <td>(41.773455295, -87.706480471)</td>\n    </tr>\n    <tr>\n        <td>7732712</td>\n        <td>HS540106</td>\n        <td>09/29/2010 07:59:00 AM</td>\n        <td>006XX W CHICAGO AVE</td>\n        <td>810</td>\n        <td>THEFT</td>\n        <td>OVER $500</td>\n        <td>PARKING LOT/GARAGE(NON.RESID.)</td>\n        <td>FALSE</td>\n        <td>FALSE</td>\n        <td>1323</td>\n        <td>12</td>\n        <td>27</td>\n        <td>24</td>\n        <td>6</td>\n        <td>1171668</td>\n        <td>1905607</td>\n        <td>2010</td>\n        <td>2018-02-10 15:50:01</td>\n        <td>41.89644677</td>\n        <td>-87.64493868</td>\n        <td>(41.896446772, -87.644938678)</td>\n    </tr>\n    <tr>\n        <td>10769475</td>\n        <td>HZ534771</td>\n        <td>11/30/2016 01:15:00 AM</td>\n        <td>050XX N KEDZIE AVE</td>\n        <td>810</td>\n        <td>THEFT</td>\n        <td>OVER $500</td>\n        <td>STREET</td>\n        <td>FALSE</td>\n        <td>FALSE</td>\n        <td>1713</td>\n        <td>17</td>\n        <td>33</td>\n        <td>14</td>\n        <td>6</td>\n        <td>1154133</td>\n        <td>1933314</td>\n        <td>2016</td>\n        <td>2018-02-10 15:50:01</td>\n        <td>41.97284491</td>\n        <td>-87.70860008</td>\n        <td>(41.972844913, -87.708600079)</td>\n    </tr>\n    <tr>\n        <td>4494340</td>\n        <td>HL793243</td>\n        <td>12/16/2005 04:45:00 PM</td>\n        <td>005XX E PERSHING RD</td>\n        <td>860</td>\n        <td>THEFT</td>\n        <td>RETAIL THEFT</td>\n        <td>GROCERY FOOD STORE</td>\n        <td>TRUE</td>\n        <td>FALSE</td>\n        <td>213</td>\n        <td>2</td>\n        <td>3</td>\n        <td>38</td>\n        <td>6</td>\n        <td>1180448</td>\n        <td>1879234</td>\n        <td>2005</td>\n        <td>2018-02-28 15:56:25</td>\n        <td>41.82387989</td>\n        <td>-87.61350386</td>\n        <td>(41.823879885, -87.613503857)</td>\n    </tr>\n    <tr>\n        <td>3778925</td>\n        <td>HL149610</td>\n        <td>01/28/2005 05:00:00 PM</td>\n        <td>100XX S WASHTENAW AVE</td>\n        <td>810</td>\n        <td>THEFT</td>\n        <td>OVER $500</td>\n        <td>STREET</td>\n        <td>FALSE</td>\n        <td>FALSE</td>\n        <td>2211</td>\n        <td>22</td>\n        <td>19</td>\n        <td>72</td>\n        <td>6</td>\n        <td>1160129</td>\n        <td>1838040</td>\n        <td>2005</td>\n        <td>2018-02-28 15:56:25</td>\n        <td>41.71128051</td>\n        <td>-87.68917910</td>\n        <td>(41.711280513, -87.689179097)</td>\n    </tr>\n    <tr>\n        <td>3324217</td>\n        <td>HK361551</td>\n        <td>05/13/2004 02:15:00 PM</td>\n        <td>033XX W BELMONT AVE</td>\n        <td>820</td>\n        <td>THEFT</td>\n        <td>$500 AND UNDER</td>\n        <td>SMALL RETAIL STORE</td>\n        <td>FALSE</td>\n        <td>FALSE</td>\n        <td>1733</td>\n        <td>17</td>\n        <td>35</td>\n        <td>21</td>\n        <td>6</td>\n        <td>1153590</td>\n        <td>1921084</td>\n        <td>2004</td>\n        <td>2018-02-28 15:56:25</td>\n        <td>41.93929582</td>\n        <td>-87.71092344</td>\n        <td>(41.939295821, -87.710923442)</td>\n    </tr>\n</table>",
                        "text/plain": "[(3512276, 'HK587712', '08/28/2004 05:50:56 PM', '047XX S KEDZIE AVE', '890', 'THEFT', 'FROM BUILDING', 'SMALL RETAIL STORE', 'FALSE', 'FALSE', 911, 9, 14, 58, '6', 1155838, 1873050, 2004, datetime.datetime(2018, 2, 10, 15, 50, 1), Decimal('41.80744050'), Decimal('-87.70395585'), '(41.8074405, -87.703955849)'),\n (3406613, 'HK456306', '06/26/2004 12:40:00 PM', '009XX N CENTRAL PARK AVE', '820', 'THEFT', '$500 AND UNDER', 'OTHER', 'FALSE', 'FALSE', 1112, 11, 27, 23, '6', 1152206, 1906127, 2004, datetime.datetime(2018, 2, 28, 15, 56, 25), Decimal('41.89827996'), Decimal('-87.71640551'), '(41.898279962, -87.716405505)'),\n (8002131, 'HT233595', '04/04/2011 05:45:00 AM', '043XX S WABASH AVE', '820', 'THEFT', '$500 AND UNDER', 'NURSING HOME/RETIREMENT HOME', 'FALSE', 'FALSE', 221, 2, 3, 38, '6', 1177436, 1876313, 2011, datetime.datetime(2018, 2, 10, 15, 50, 1), Decimal('41.81593313'), Decimal('-87.62464213'), '(41.815933131, -87.624642127)'),\n (7903289, 'HT133522', '12/30/2010 04:30:00 PM', '083XX S KINGSTON AVE', '840', 'THEFT', 'FINANCIAL ID THEFT: OVER $300', 'RESIDENCE', 'FALSE', 'FALSE', 423, 4, 7, 46, '6', 1194622, 1850125, 2010, datetime.datetime(2018, 2, 10, 15, 50, 1), Decimal('41.74366532'), Decimal('-87.56246276'), '(41.743665322, -87.562462756)'),\n (10402076, 'HZ138551', '02/02/2016 07:30:00 PM', '033XX W 66TH ST', '820', 'THEFT', '$500 AND UNDER', 'ALLEY', 'FALSE', 'FALSE', 831, 8, 15, 66, '6', 1155240, 1860661, 2016, datetime.datetime(2018, 2, 10, 15, 50, 1), Decimal('41.77345530'), Decimal('-87.70648047'), '(41.773455295, -87.706480471)'),\n (7732712, 'HS540106', '09/29/2010 07:59:00 AM', '006XX W CHICAGO AVE', '810', 'THEFT', 'OVER $500', 'PARKING LOT/GARAGE(NON.RESID.)', 'FALSE', 'FALSE', 1323, 12, 27, 24, '6', 1171668, 1905607, 2010, datetime.datetime(2018, 2, 10, 15, 50, 1), Decimal('41.89644677'), Decimal('-87.64493868'), '(41.896446772, -87.644938678)'),\n (10769475, 'HZ534771', '11/30/2016 01:15:00 AM', '050XX N KEDZIE AVE', '810', 'THEFT', 'OVER $500', 'STREET', 'FALSE', 'FALSE', 1713, 17, 33, 14, '6', 1154133, 1933314, 2016, datetime.datetime(2018, 2, 10, 15, 50, 1), Decimal('41.97284491'), Decimal('-87.70860008'), '(41.972844913, -87.708600079)'),\n (4494340, 'HL793243', '12/16/2005 04:45:00 PM', '005XX E PERSHING RD', '860', 'THEFT', 'RETAIL THEFT', 'GROCERY FOOD STORE', 'TRUE', 'FALSE', 213, 2, 3, 38, '6', 1180448, 1879234, 2005, datetime.datetime(2018, 2, 28, 15, 56, 25), Decimal('41.82387989'), Decimal('-87.61350386'), '(41.823879885, -87.613503857)'),\n (3778925, 'HL149610', '01/28/2005 05:00:00 PM', '100XX S WASHTENAW AVE', '810', 'THEFT', 'OVER $500', 'STREET', 'FALSE', 'FALSE', 2211, 22, 19, 72, '6', 1160129, 1838040, 2005, datetime.datetime(2018, 2, 28, 15, 56, 25), Decimal('41.71128051'), Decimal('-87.68917910'), '(41.711280513, -87.689179097)'),\n (3324217, 'HK361551', '05/13/2004 02:15:00 PM', '033XX W BELMONT AVE', '820', 'THEFT', '$500 AND UNDER', 'SMALL RETAIL STORE', 'FALSE', 'FALSE', 1733, 17, 35, 21, '6', 1153590, 1921084, 2004, datetime.datetime(2018, 2, 28, 15, 56, 25), Decimal('41.93929582'), Decimal('-87.71092344'), '(41.939295821, -87.710923442)')]"
                    },
                    "execution_count": 11,
                    "metadata": {},
                    "output_type": "execute_result"
                }
            ]
        },
        {
            "metadata": {},
            "cell_type": "markdown",
            "source": "## Problem 3"
        },
        {
            "metadata": {},
            "cell_type": "code",
            "source": "%sql SELECT COUNT(*) as count_of_arrest FROM CHICAGO_CRIME_DATA WHERE ARREST = 'TRUE'",
            "execution_count": 12,
            "outputs": [
                {
                    "name": "stdout",
                    "output_type": "stream",
                    "text": " * ibm_db_sa://pgq43854:***@dashdb-txn-sbox-yp-lon02-02.services.eu-gb.bluemix.net:50000/BLUDB\nDone.\n"
                },
                {
                    "data": {
                        "text/html": "<table>\n    <tr>\n        <th>count_of_arrest</th>\n    </tr>\n    <tr>\n        <td>163</td>\n    </tr>\n</table>",
                        "text/plain": "[(Decimal('163'),)]"
                    },
                    "execution_count": 12,
                    "metadata": {},
                    "output_type": "execute_result"
                }
            ]
        },
        {
            "metadata": {},
            "cell_type": "markdown",
            "source": "## Problem 4\n"
        },
        {
            "metadata": {},
            "cell_type": "code",
            "source": "%%sql\nSELECT PRIMARY_TYPE as unique_types_of_crimes FROM CHICAGO_CRIME_DATA \nWHERE LOCATION_DESCRIPTION = 'GAS STATION' GROUP BY PRIMARY_TYPE",
            "execution_count": 64,
            "outputs": [
                {
                    "name": "stdout",
                    "output_type": "stream",
                    "text": " * ibm_db_sa://pgq43854:***@dashdb-txn-sbox-yp-lon02-02.services.eu-gb.bluemix.net:50000/BLUDB\nDone.\n"
                },
                {
                    "data": {
                        "text/html": "<table>\n    <tr>\n        <th>unique_types_of_crimes</th>\n    </tr>\n    <tr>\n        <td>CRIMINAL TRESPASS</td>\n    </tr>\n    <tr>\n        <td>NARCOTICS</td>\n    </tr>\n    <tr>\n        <td>ROBBERY</td>\n    </tr>\n    <tr>\n        <td>THEFT</td>\n    </tr>\n</table>",
                        "text/plain": "[('CRIMINAL TRESPASS',), ('NARCOTICS',), ('ROBBERY',), ('THEFT',)]"
                    },
                    "execution_count": 64,
                    "metadata": {},
                    "output_type": "execute_result"
                }
            ]
        },
        {
            "metadata": {},
            "cell_type": "markdown",
            "source": "Hint: Which column lists types of crimes e.g. THEFT?"
        },
        {
            "metadata": {},
            "cell_type": "markdown",
            "source": "## Problem 5"
        },
        {
            "metadata": {},
            "cell_type": "code",
            "source": "%sql SELECT COMMUNITY_AREA_NAME FROM CENSUS_DATA WHERE COMMUNITY_AREA_NAME LIKE 'B%'",
            "execution_count": 16,
            "outputs": [
                {
                    "name": "stdout",
                    "output_type": "stream",
                    "text": " * ibm_db_sa://pgq43854:***@dashdb-txn-sbox-yp-lon02-02.services.eu-gb.bluemix.net:50000/BLUDB\nDone.\n"
                },
                {
                    "data": {
                        "text/html": "<table>\n    <tr>\n        <th>community_area_name</th>\n    </tr>\n    <tr>\n        <td>Belmont Cragin</td>\n    </tr>\n    <tr>\n        <td>Burnside</td>\n    </tr>\n    <tr>\n        <td>Brighton Park</td>\n    </tr>\n    <tr>\n        <td>Bridgeport</td>\n    </tr>\n    <tr>\n        <td>Beverly</td>\n    </tr>\n</table>",
                        "text/plain": "[('Belmont Cragin',),\n ('Burnside',),\n ('Brighton Park',),\n ('Bridgeport',),\n ('Beverly',)]"
                    },
                    "execution_count": 16,
                    "metadata": {},
                    "output_type": "execute_result"
                }
            ]
        },
        {
            "metadata": {},
            "cell_type": "markdown",
            "source": "## Problem 6"
        },
        {
            "metadata": {},
            "cell_type": "code",
            "source": "%%sql\nSELECT CPS.COMMUNITY_AREA_NUMBER, CPS.COMMUNITY_AREA_NAME, NAME_OF_SCHOOL, CPS.HEALTHY_SCHOOL_CERTIFIED \n    FROM CHICAGO_PUBLIC_SCHOOLS as CPS JOIN CENSUS_DATA as CD \n    ON CD.COMMUNITY_AREA_NUMBER = CPS.COMMUNITY_AREA_NUMBER \n    WHERE CD.COMMUNITY_AREA_NUMBER BETWEEN 10 AND 15 AND CPS.HEALTHY_SCHOOL_CERTIFIED = 'Yes'",
            "execution_count": 29,
            "outputs": [
                {
                    "name": "stdout",
                    "output_type": "stream",
                    "text": " * ibm_db_sa://pgq43854:***@dashdb-txn-sbox-yp-lon02-02.services.eu-gb.bluemix.net:50000/BLUDB\nDone.\n"
                },
                {
                    "data": {
                        "text/html": "<table>\n    <tr>\n        <th>community_area_number</th>\n        <th>community_area_name</th>\n        <th>name_of_school</th>\n        <th>healthy_school_certified</th>\n    </tr>\n    <tr>\n        <td>10</td>\n        <td>NORWOOD PARK</td>\n        <td>Rufus M Hitch Elementary School</td>\n        <td>Yes</td>\n    </tr>\n</table>",
                        "text/plain": "[(10, 'NORWOOD PARK', 'Rufus M Hitch Elementary School', 'Yes')]"
                    },
                    "execution_count": 29,
                    "metadata": {},
                    "output_type": "execute_result"
                }
            ]
        },
        {
            "metadata": {},
            "cell_type": "markdown",
            "source": "## Problem 7"
        },
        {
            "metadata": {},
            "cell_type": "code",
            "source": "%sql SELECT AVG(SAFETY_SCORE) as average_school_safety_score FROM CHICAGO_PUBLIC_SCHOOLS",
            "execution_count": 31,
            "outputs": [
                {
                    "name": "stdout",
                    "output_type": "stream",
                    "text": " * ibm_db_sa://pgq43854:***@dashdb-txn-sbox-yp-lon02-02.services.eu-gb.bluemix.net:50000/BLUDB\nDone.\n"
                },
                {
                    "data": {
                        "text/html": "<table>\n    <tr>\n        <th>average_school_safety_score</th>\n    </tr>\n    <tr>\n        <td>49.504873</td>\n    </tr>\n</table>",
                        "text/plain": "[(Decimal('49.504873'),)]"
                    },
                    "execution_count": 31,
                    "metadata": {},
                    "output_type": "execute_result"
                }
            ]
        },
        {
            "metadata": {},
            "cell_type": "markdown",
            "source": "## Problem 8"
        },
        {
            "metadata": {},
            "cell_type": "code",
            "source": "%%sql\nSELECT COMMUNITY_AREA_NAME, AVG(COLLEGE_ENROLLMENT) as AVG_COLLEGE_ENROLLMENT FROM \nCHICAGO_PUBLIC_SCHOOLS GROUP BY COMMUNITY_AREA_NAME ORDER BY AVG_COLLEGE_ENROLLMENT DESC LIMIT 5",
            "execution_count": 68,
            "outputs": [
                {
                    "name": "stdout",
                    "output_type": "stream",
                    "text": " * ibm_db_sa://pgq43854:***@dashdb-txn-sbox-yp-lon02-02.services.eu-gb.bluemix.net:50000/BLUDB\nDone.\n"
                },
                {
                    "data": {
                        "text/html": "<table>\n    <tr>\n        <th>community_area_name</th>\n        <th>avg_college_enrollment</th>\n    </tr>\n    <tr>\n        <td>ARCHER HEIGHTS</td>\n        <td>2411.500000</td>\n    </tr>\n    <tr>\n        <td>MONTCLARE</td>\n        <td>1317.000000</td>\n    </tr>\n    <tr>\n        <td>WEST ELSDON</td>\n        <td>1233.333333</td>\n    </tr>\n    <tr>\n        <td>BRIGHTON PARK</td>\n        <td>1205.875000</td>\n    </tr>\n    <tr>\n        <td>BELMONT CRAGIN</td>\n        <td>1198.833333</td>\n    </tr>\n</table>",
                        "text/plain": "[('ARCHER HEIGHTS', Decimal('2411.500000')),\n ('MONTCLARE', Decimal('1317.000000')),\n ('WEST ELSDON', Decimal('1233.333333')),\n ('BRIGHTON PARK', Decimal('1205.875000')),\n ('BELMONT CRAGIN', Decimal('1198.833333'))]"
                    },
                    "execution_count": 68,
                    "metadata": {},
                    "output_type": "execute_result"
                }
            ]
        },
        {
            "metadata": {},
            "cell_type": "markdown",
            "source": "## Problem 9"
        },
        {
            "metadata": {},
            "cell_type": "code",
            "source": "%%sql\nSELECT COMMUNITY_AREA_NAME, SAFETY_SCORE FROM CHICAGO_PUBLIC_SCHOOLS\nWHERE SAFETY_SCORE = (SELECT MIN(SAFETY_SCORE) FROM CHICAGO_PUBLIC_SCHOOLS)",
            "execution_count": 55,
            "outputs": [
                {
                    "name": "stdout",
                    "output_type": "stream",
                    "text": " * ibm_db_sa://pgq43854:***@dashdb-txn-sbox-yp-lon02-02.services.eu-gb.bluemix.net:50000/BLUDB\nDone.\n"
                },
                {
                    "data": {
                        "text/html": "<table>\n    <tr>\n        <th>community_area_name</th>\n        <th>safety_score</th>\n    </tr>\n    <tr>\n        <td>WASHINGTON PARK</td>\n        <td>1</td>\n    </tr>\n</table>",
                        "text/plain": "[('WASHINGTON PARK', 1)]"
                    },
                    "execution_count": 55,
                    "metadata": {},
                    "output_type": "execute_result"
                }
            ]
        },
        {
            "metadata": {},
            "cell_type": "markdown",
            "source": "## Problem 10"
        },
        {
            "metadata": {},
            "cell_type": "code",
            "source": "%%sql\nSELECT CPS.COMMUNITY_AREA_NAME, CPS.SAFETY_SCORE, CD.PER_CAPITA_INCOME \n    FROM CENSUS_DATA as CD, CHICAGO_PUBLIC_SCHOOLS as CPS \n    WHERE CPS.SAFETY_SCORE = 1 AND CPS.COMMUNITY_AREA_NUMBER = CD.COMMUNITY_AREA_NUMBER",
            "execution_count": 59,
            "outputs": [
                {
                    "name": "stdout",
                    "output_type": "stream",
                    "text": " * ibm_db_sa://pgq43854:***@dashdb-txn-sbox-yp-lon02-02.services.eu-gb.bluemix.net:50000/BLUDB\nDone.\n"
                },
                {
                    "data": {
                        "text/html": "<table>\n    <tr>\n        <th>community_area_name</th>\n        <th>safety_score</th>\n        <th>per_capita_income</th>\n    </tr>\n    <tr>\n        <td>WASHINGTON PARK</td>\n        <td>1</td>\n        <td>13785</td>\n    </tr>\n</table>",
                        "text/plain": "[('WASHINGTON PARK', 1, 13785)]"
                    },
                    "execution_count": 59,
                    "metadata": {},
                    "output_type": "execute_result"
                }
            ]
        }
    ],
    "metadata": {
        "kernelspec": {
            "name": "python3",
            "display_name": "Python 3.9",
            "language": "python"
        },
        "language_info": {
            "name": "python",
            "version": "3.9.13",
            "mimetype": "text/x-python",
            "codemirror_mode": {
                "name": "ipython",
                "version": 3
            },
            "pygments_lexer": "ipython3",
            "nbconvert_exporter": "python",
            "file_extension": ".py"
        },
        "widgets": {
            "state": {},
            "version": "1.1.2"
        }
    },
    "nbformat": 4,
    "nbformat_minor": 4
}